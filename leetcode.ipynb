{
 "cells": [
  {
   "cell_type": "markdown",
   "metadata": {},
   "source": [
    "88. Merge Sorted Array\n",
    "Easy\n",
    "\n",
    "You are given two integer arrays nums1 and nums2, sorted in non-decreasing order, and two integers m and n, representing the number of elements in nums1 and nums2 respectively.\n",
    "\n",
    "Merge nums1 and nums2 into a single array sorted in non-decreasing order.\n",
    "\n",
    "The final sorted array should not be returned by the function, but instead be stored inside the array nums1. To accommodate this, nums1 has a length of m + n, where the first m elements denote the elements that should be merged, and the last n elements are set to 0 and should be ignored. nums2 has a length of n.\n",
    "\n",
    " \n",
    "\n",
    "Example 1:\n",
    "\n",
    "Input: nums1 = [1,2,3,0,0,0], m = 3, nums2 = [2,5,6], n = 3\n",
    "Output: [1,2,2,3,5,6]\n",
    "Explanation: The arrays we are merging are [1,2,3] and [2,5,6].\n",
    "The result of the merge is [1,2,2,3,5,6] with the underlined elements coming from nums1.\n",
    "Example 2:\n",
    "\n",
    "Input: nums1 = [1], m = 1, nums2 = [], n = 0\n",
    "Output: [1]\n",
    "Explanation: The arrays we are merging are [1] and [].\n",
    "The result of the merge is [1].\n",
    "Example 3:\n",
    "\n",
    "Input: nums1 = [0], m = 0, nums2 = [1], n = 1\n",
    "Output: [1]\n",
    "Explanation: The arrays we are merging are [] and [1].\n",
    "The result of the merge is [1].\n",
    "Note that because m = 0, there are no elements in nums1. The 0 is only there to ensure the merge result can fit in nums1.\n",
    " \n",
    "\n",
    "Constraints:\n",
    "\n",
    "nums1.length == m + n\n",
    "nums2.length == n\n",
    "0 <= m, n <= 200\n",
    "1 <= m + n <= 200\n",
    "-109 <= nums1[i], nums2[j] <= 109"
   ]
  },
  {
   "cell_type": "code",
   "execution_count": 31,
   "metadata": {},
   "outputs": [
    {
     "data": {
      "text/plain": [
       "[1, 2, 2, 3, 5, 6]"
      ]
     },
     "execution_count": 31,
     "metadata": {},
     "output_type": "execute_result"
    }
   ],
   "source": [
    "class Solution(object):\n",
    "    def merge(self,num1,m,num2,n):\n",
    "        #指向从 0 到 n的位置\n",
    "        for i in range(n):\n",
    "            #然后将 num2对应位置的数，写入num1 m位置的后面\n",
    "            num1[i+m] = num2[i]\n",
    "        #进行排序，默认是升序\n",
    "        num1.sort()\n",
    "\n",
    "num1 = [1,2,3,0,0,0]\n",
    "num2 = [2,5,6]\n",
    "m=3\n",
    "n=3\n",
    "Solution.merge(object,num1,m,num2,n)\n",
    "num1"
   ]
  },
  {
   "cell_type": "code",
   "execution_count": 29,
   "metadata": {},
   "outputs": [
    {
     "data": {
      "text/plain": [
       "[1]"
      ]
     },
     "execution_count": 29,
     "metadata": {},
     "output_type": "execute_result"
    }
   ],
   "source": [
    "num1 = [1]\n",
    "num2 = []\n",
    "m=1\n",
    "n=0\n",
    "Solution.merge(object,num1,m,num2,n)\n",
    "num1\n"
   ]
  },
  {
   "cell_type": "code",
   "execution_count": 30,
   "metadata": {},
   "outputs": [
    {
     "data": {
      "text/plain": [
       "[1]"
      ]
     },
     "execution_count": 30,
     "metadata": {},
     "output_type": "execute_result"
    }
   ],
   "source": [
    "num1 = [0]\n",
    "num2 = [1]\n",
    "m=0\n",
    "n=1\n",
    "Solution.merge(object,num1,m,num2,n)\n",
    "num1"
   ]
  },
  {
   "cell_type": "markdown",
   "metadata": {},
   "source": [
    "125. Valid Palindrome\n",
    "Easy\n",
    "\n",
    "A phrase is a palindrome if, after converting all uppercase letters into lowercase letters and removing all non-alphanumeric characters, it reads the same forward and backward. Alphanumeric characters include letters and numbers.\n",
    "\n",
    "Given a string s, return true if it is a palindrome, or false otherwise.\n",
    "\n",
    " \n",
    "\n",
    "Example 1:\n",
    "\n",
    "Input: s = \"A man, a plan, a canal: Panama\"\n",
    "Output: true\n",
    "Explanation: \"amanaplanacanalpanama\" is a palindrome.\n",
    "Example 2:\n",
    "\n",
    "Input: s = \"race a car\"\n",
    "Output: false\n",
    "Explanation: \"raceacar\" is not a palindrome.\n",
    "Example 3:\n",
    "\n",
    "Input: s = \" \"\n",
    "Output: true\n",
    "Explanation: s is an empty string \"\" after removing non-alphanumeric characters.\n",
    "Since an empty string reads the same forward and backward, it is a palindrome.\n",
    " \n",
    "\n",
    "Constraints:\n",
    "\n",
    "1 <= s.length <= 2 * 105\n",
    "s consists only of printable ASCII characters."
   ]
  },
  {
   "cell_type": "code",
   "execution_count": 24,
   "metadata": {},
   "outputs": [],
   "source": [
    "#class 类，这个object,然后类里面的函数要带有self，去继承这个object\n",
    "class Solution(object):\n",
    "    def isPalindrome(self,s:str) -> bool:\n",
    "        #isalnum() 查alpha & number，isnumeric() 查number,isalpha()查alphabetic\n",
    "        #filter(a,b), 对b进行a的判断，为true的就filter起来\n",
    "        #这里是将string的字母和数字保留\n",
    "        filtered_chars = filter(lambda ch: ch.isalnum(),s)\n",
    "        #lower()转化小写\n",
    "        #map将每一个在filtered_chars的字符匹配\n",
    "        lowercase_filtered_chars = map(lambda ch: ch.lower(),filtered_chars)\n",
    "\n",
    "        filtered_chars_list = list(lowercase_filtered_chars)\n",
    "        reversed_chars_list = filtered_chars_list[::-1]\n",
    "\n",
    "        return filtered_chars_list == reversed_chars_list"
   ]
  },
  {
   "cell_type": "code",
   "execution_count": 25,
   "metadata": {},
   "outputs": [
    {
     "name": "stdout",
     "output_type": "stream",
     "text": [
      "True\n",
      "False\n",
      "True\n"
     ]
    }
   ],
   "source": [
    "print(Solution.isPalindrome(object,\"A man, a plan, a canal: Panama\"))\n",
    "print(Solution.isPalindrome(object,\"race a car\"))\n",
    "print(Solution.isPalindrome(object,\" \"))"
   ]
  },
  {
   "cell_type": "markdown",
   "metadata": {},
   "source": [
    "246. Strobogrammatic Number\n",
    "Easy\n",
    "\n",
    "Given a string num which represents an integer, return true if num is a strobogrammatic number.\n",
    "\n",
    "A strobogrammatic number is a number that looks the same when rotated 180 degrees (looked at upside down).\n",
    "\n",
    " \n",
    "\n",
    "Example 1:\n",
    "\n",
    "Input: num = \"69\"\n",
    "Output: true\n",
    "Example 2:\n",
    "\n",
    "Input: num = \"88\"\n",
    "Output: true\n",
    "Example 3:\n",
    "\n",
    "Input: num = \"962\"\n",
    "Output: false\n",
    " \n",
    "\n",
    "Constraints:\n",
    "\n",
    "1 <= num.length <= 50\n",
    "num consists of only digits.\n",
    "num does not contain any leading zeros except for zero itself."
   ]
  },
  {
   "cell_type": "code",
   "execution_count": 26,
   "metadata": {},
   "outputs": [],
   "source": [
    "class Solution(object):\n",
    "    def isStrobogrammatic(self,num:str) -> bool:\n",
    "        #一个空的list，储存rotate之后的字符\n",
    "        rotate_builder_list = []\n",
    "        #直接指向string的每一个字符，因为是180度旋转，所以reverse string然后逐一判断\n",
    "        for c in reversed(num):\n",
    "            #这里首先要理解题目，0,1,2,3,4,5,6,7,8,9\n",
    "            #180旋转后相同的 0,1,8\n",
    "            #180旋转后相同的生成另一个数的 6,9\n",
    "            #剩下的旋转后不能成为数字\n",
    "            if c in {'0','1','8'}:\n",
    "                rotate_builder_list.append(c)\n",
    "            elif c == '6':\n",
    "                rotate_builder_list.append('9')\n",
    "            elif c == '9':\n",
    "                rotate_builder_list.append('6')\n",
    "            else:\n",
    "                return False\n",
    "        #将上面生成的每一个字符，将list的每个元素转化成字符，然后形成string\n",
    "        rotated_string = \"\".join(rotate_builder_list)\n",
    "        #旋转后的string和旋转前的string对比，是否相同，相同则为 strobogrammatic\n",
    "        return rotated_string == num\n"
   ]
  },
  {
   "cell_type": "code",
   "execution_count": 27,
   "metadata": {},
   "outputs": [
    {
     "name": "stdout",
     "output_type": "stream",
     "text": [
      "True\n",
      "True\n",
      "False\n"
     ]
    }
   ],
   "source": [
    "print(Solution.isStrobogrammatic(object,\"69\"))\n",
    "print(Solution.isStrobogrammatic(object,\"88\"))\n",
    "print(Solution.isStrobogrammatic(object,\"962\"))"
   ]
  },
  {
   "cell_type": "markdown",
   "metadata": {},
   "source": [
    "346. Moving Average from Data Stream\n",
    "Easy\n",
    "\n",
    "Given a stream of integers and a window size, calculate the moving average of all integers in the sliding window.\n",
    "\n",
    "Implement the MovingAverage class:\n",
    "\n",
    "MovingAverage(int size) Initializes the object with the size of the window size.\n",
    "double next(int val) Returns the moving average of the last size values of the stream.\n",
    " \n",
    "\n",
    "Example 1:\n",
    "\n",
    "Input\n",
    "[\"MovingAverage\", \"next\", \"next\", \"next\", \"next\"]\n",
    "[[3], [1], [10], [3], [5]]\n",
    "Output\n",
    "[null, 1.0, 5.5, 4.66667, 6.0]\n",
    "\n",
    "Explanation\n",
    "MovingAverage movingAverage = new MovingAverage(3);\n",
    "movingAverage.next(1); // return 1.0 = 1 / 1\n",
    "movingAverage.next(10); // return 5.5 = (1 + 10) / 2\n",
    "movingAverage.next(3); // return 4.66667 = (1 + 10 + 3) / 3\n",
    "movingAverage.next(5); // return 6.0 = (10 + 3 + 5) / 3\n",
    " \n",
    "\n",
    "Constraints:\n",
    "\n",
    "1 <= size <= 1000\n",
    "-105 <= val <= 105\n",
    "At most 104 calls will be made to next."
   ]
  },
  {
   "cell_type": "code",
   "execution_count": 28,
   "metadata": {},
   "outputs": [],
   "source": [
    "#因为我们用一下方式call class 和 class的函数\n",
    "#定义class, def init, def next\n",
    "\n",
    "class MovingAverage:\n",
    "    #题目中提到了要initialize一个object with size of window\n",
    "    #所以我们要写 def __init__，参数为size\n",
    "    def __init__(self, size:int):\n",
    "        self.size = size\n",
    "        #给一个初始的空list\n",
    "        self.arr = []\n",
    "    \n",
    "    def next(self,val:int) -> float:\n",
    "        if len(self.arr) == self.size:\n",
    "            self.arr.pop(0)\n",
    "        self.arr.append(val)\n",
    "        return sum(self.arr)/len(self.arr)\n",
    "\n",
    "\n",
    "    #这种方法也能解，但是不符合题目，因为在执行过程中我们扩大了window size\n",
    "    # def next(self, val:int) -> float:\n",
    "    #     #考虑下先做append，在做if判断，还是先做if判断，再做append\n",
    "    #     self.arr.append(val)\n",
    "    #     #判断现在arr的元素 和 我们的 window size是不是相等的\n",
    "    #     if len(self.arr) > self.size:\n",
    "    #         self.arr.pop(0)\n",
    "    #     #求arr的和 除以 arr元素的个数\n",
    "    #     return sum(self.arr)/len(self.arr)\n",
    "\n",
    "\n",
    "\n",
    "\n",
    "# Your MovingAverage object will be instantiated and called as such:\n",
    "# obj = MovingAverage(size)\n",
    "# param_1 = obj.next(val)"
   ]
  },
  {
   "cell_type": "code",
   "execution_count": 32,
   "metadata": {},
   "outputs": [
    {
     "name": "stdout",
     "output_type": "stream",
     "text": [
      "1.0\n",
      "5.5\n",
      "4.666666666666667\n",
      "6.0\n"
     ]
    }
   ],
   "source": [
    "obj = MovingAverage(3)\n",
    "param_1 = obj.next(1)\n",
    "print(param_1)\n",
    "param_1 = obj.next(10)\n",
    "print(param_1)\n",
    "param_1 = obj.next(3)\n",
    "print(param_1)\n",
    "param_1 = obj.next(5)\n",
    "print(param_1)"
   ]
  },
  {
   "cell_type": "markdown",
   "metadata": {},
   "source": [
    "408. Valid Word Abbreviation\n",
    "Easy\n",
    "\n",
    "A string can be abbreviated by replacing any number of non-adjacent, non-empty substrings with their lengths. The lengths should not have leading zeros.\n",
    "\n",
    "For example, a string such as \"substitution\" could be abbreviated as (but not limited to):\n",
    "\n",
    "\"s10n\" (\"s ubstitutio n\")\n",
    "\"sub4u4\" (\"sub stit u tion\")\n",
    "\"12\" (\"substitution\")\n",
    "\"su3i1u2on\" (\"su bst i t u ti on\")\n",
    "\"substitution\" (no substrings replaced)\n",
    "The following are not valid abbreviations:\n",
    "\n",
    "\"s55n\" (\"s ubsti tutio n\", the replaced substrings are adjacent)\n",
    "\"s010n\" (has leading zeros)\n",
    "\"s0ubstitution\" (replaces an empty substring)\n",
    "Given a string word and an abbreviation abbr, return whether the string matches the given abbreviation.\n",
    "\n",
    "A substring is a contiguous non-empty sequence of characters within a string.\n",
    "\n",
    " \n",
    "\n",
    "Example 1:\n",
    "\n",
    "Input: word = \"internationalization\", abbr = \"i12iz4n\"\n",
    "Output: true\n",
    "Explanation: The word \"internationalization\" can be abbreviated as \"i12iz4n\" (\"i nternational iz atio n\").\n",
    "Example 2:\n",
    "\n",
    "Input: word = \"apple\", abbr = \"a2e\"\n",
    "Output: false\n",
    "Explanation: The word \"apple\" cannot be abbreviated as \"a2e\".\n",
    " \n",
    "\n",
    "Constraints:\n",
    "\n",
    "1 <= word.length <= 20\n",
    "word consists of only lowercase English letters.\n",
    "1 <= abbr.length <= 10\n",
    "abbr consists of lowercase English letters and digits.\n",
    "All the integers in abbr will fit in a 32-bit integer."
   ]
  },
  {
   "cell_type": "code",
   "execution_count": 44,
   "metadata": {},
   "outputs": [],
   "source": [
    "#对比abbr 是否按照规则，缩写的 word\n",
    "#两个对比，word 和 abbr，都是string的输入，考虑分别形成指针\n",
    "#初始指针的位置\n",
    "\n",
    "#指针判断的运行条件，指针只在word和abbr的长度内运行\n",
    "    #指针运行后，如何执行对比；输入会存在两种情况，字母和数字\n",
    "    #指针指向数字，只有abbr的指针会指向数字，\n",
    "        # 开头数字不能为0, 等于0 输出 false\n",
    "        #指针获取两个参数，一个是只针对应的数字，一个指针对应的位置\n",
    "        #abbr是数字，指针在len(abbr)的范围内\n",
    "            #n 和 新的 p2\n",
    "        #更新两个指针对应的位置\n",
    "        #继续进行while，continue\n",
    "\n",
    "    #指针指向字母\n",
    "        #对比两个指针位置的字母是否一致\n",
    "        #不一致出false\n",
    "        #一致指针向下一位移动\n",
    "\n",
    "    #两个指针分别增加一个位移位置\n",
    "\n",
    "#return 判断最后的两个指针是不是都刚好在word 和 abbr的末尾，如果刚好在末尾，且完成了上述判断，那么就是对的\n",
    "\n",
    "class Solution(object):\n",
    "    def ValidWordAbbr(self,word:str,abbr:str) ->bool:\n",
    "        p1,p2 = 0,0\n",
    "        while p1< len(word) and p2< len(abbr):\n",
    "            if abbr[p2].isdigit():\n",
    "                if int(abbr[p2]) == 0: return False\n",
    "                n , pp2 = abbr[p2],p2+1\n",
    "                while pp2 < len(abbr) and abbr[pp2].isdigit():\n",
    "                    n , pp2 = n+abbr[pp2], pp2+1\n",
    "                p1 , p2 = p1+int(n), p2+len(n)\n",
    "                continue \n",
    "            if abbr[p2] != word[p1]: return False\n",
    "            p1,p2 = p1+1,p2+1\n",
    "\n",
    "        return p1 == len(word) and p2 == len(abbr)\n"
   ]
  },
  {
   "cell_type": "code",
   "execution_count": 45,
   "metadata": {},
   "outputs": [
    {
     "name": "stdout",
     "output_type": "stream",
     "text": [
      "True\n",
      "False\n"
     ]
    }
   ],
   "source": [
    "print(Solution.ValidWordAbbr(object,\"internationalization\",\"i12iz4n\"))\n",
    "\n",
    "print(Solution.ValidWordAbbr(object,\"apple\",\"a2e\"))"
   ]
  },
  {
   "cell_type": "markdown",
   "metadata": {},
   "source": [
    "415. Add Strings\n",
    "Easy\n",
    "\n",
    "Given two non-negative integers, num1 and num2 represented as string, return the sum of num1 and num2 as a string.\n",
    "\n",
    "You must solve the problem without using any built-in library for handling large integers (such as BigInteger). You must also not convert the inputs to integers directly.\n",
    "\n",
    " \n",
    "\n",
    "Example 1:\n",
    "\n",
    "Input: num1 = \"11\", num2 = \"123\"\n",
    "Output: \"134\"\n",
    "Example 2:\n",
    "\n",
    "Input: num1 = \"456\", num2 = \"77\"\n",
    "Output: \"533\"\n",
    "Example 3:\n",
    "\n",
    "Input: num1 = \"0\", num2 = \"0\"\n",
    "Output: \"0\"\n",
    " \n",
    "\n",
    "Constraints:\n",
    "\n",
    "1 <= num1.length, num2.length <= 104\n",
    "num1 and num2 consist of only digits.\n",
    "num1 and num2 don't have any leading zeros except for the zero itself."
   ]
  },
  {
   "cell_type": "code",
   "execution_count": 18,
   "metadata": {},
   "outputs": [],
   "source": [
    "#string 相加实际上是，两个指针对应的string转化成int相加\n",
    "#存在进位和不进位的情况\n",
    "#如果进位，返回的数值-10，同事需要记一个进位；carry = 1\n",
    "#sum = d1 + d2 + carry\n",
    "#sum = sum - 10 if sum >= 10 else sum\n",
    "#return str(reversed(sum))\n",
    "\n",
    "\n",
    "def AddString(num1:str,num2:str) -> str:\n",
    "    p1, p2 = len(num1)-1 ,len(num2)-1\n",
    "\n",
    "    carry = 0\n",
    "    res = \"\"\n",
    "\n",
    "    while p1 >=0 or p2 >=0 or carry >0:\n",
    "        d1 = int(num1[p1]) if p1 >=0 else 0\n",
    "        d2 = int(num2[p2]) if p2 >=0 else 0\n",
    "        sum = d1 + d2 + carry\n",
    "        carry = 1 if sum >= 10 else 0\n",
    "        sum = sum -10 if sum >= 10 else sum\n",
    "        res += str(sum)\n",
    "        p1 -=1\n",
    "        p2 -=1\n",
    "    \n",
    "    return res[::-1]"
   ]
  },
  {
   "cell_type": "code",
   "execution_count": 21,
   "metadata": {},
   "outputs": [
    {
     "name": "stdout",
     "output_type": "stream",
     "text": [
      "533\n",
      "0\n"
     ]
    }
   ],
   "source": [
    "print(AddString(\"456\",\"77\"))\n",
    "print(AddString(\"0\",\"0\"))"
   ]
  },
  {
   "cell_type": "markdown",
   "metadata": {},
   "source": [
    "543. Diameter of Binary Tree\n",
    "Easy\n",
    "\n",
    "Given the root of a binary tree, return the length of the diameter of the tree.\n",
    "\n",
    "The diameter of a binary tree is the length of the longest path between any two nodes in a tree. This path may or may not pass through the root.\n",
    "\n",
    "The length of a path between two nodes is represented by the number of edges between them.\n",
    "\n",
    " \n",
    "\n",
    "Example 1:\n",
    "\n",
    "\n",
    "Input: root = [1,2,3,4,5]\n",
    "Output: 3\n",
    "Explanation: 3 is the length of the path [4,2,1,3] or [5,2,1,3].\n",
    "Example 2:\n",
    "\n",
    "Input: root = [1,2]\n",
    "Output: 1\n",
    " \n",
    "\n",
    "Constraints:\n",
    "\n",
    "The number of nodes in the tree is in the range [1, 104].\n",
    "-100 <= Node.val <= 100"
   ]
  },
  {
   "cell_type": "code",
   "execution_count": 58,
   "metadata": {},
   "outputs": [],
   "source": [
    "#定义tree的class\n",
    "from typing import Optional\n",
    "\n",
    "class TreeNode:\n",
    "    def __init__(self,val = 0):\n",
    "        self.val = val\n",
    "        self.left = None\n",
    "        self.right = None\n",
    "\n",
    "\n",
    "class Solution:\n",
    "    def DiameterOfBinaryTree(self,root: Optional[TreeNode]) -> int:\n",
    "        diameter = 0\n",
    "    \n",
    "        def longest_path(Node):\n",
    "            if not Node:\n",
    "                return 0\n",
    "            \n",
    "            nonlocal diameter\n",
    "            left_path = longest_path(Node.left)\n",
    "            right_path = longest_path(Node.right)\n",
    "\n",
    "            diameter = max(diameter,left_path+right_path)\n",
    "\n",
    "            return max(left_path,right_path)+1\n",
    "    \n",
    "        longest_path(root)\n",
    "    \n",
    "        return diameter\n",
    "\n",
    "\n",
    "#how to run tree test case\n",
    "\n",
    "def fromlist(val):\n",
    "    def create(it):\n",
    "        value = next(it)\n",
    "        return None if value is None else TreeNode(value)\n",
    "    \n",
    "    if not val:\n",
    "        return None\n",
    "    it = iter(val)\n",
    "    root = TreeNode(next(it))\n",
    "    nextlevel = [root]\n",
    "\n",
    "    try:\n",
    "        while nextlevel:\n",
    "            level = nextlevel\n",
    "            nextlevel = []\n",
    "            for node in level:\n",
    "                if node:\n",
    "                    node.left = create(it)\n",
    "                    node.right = create(it)\n",
    "                    nextlevel += [node.left, node.right]\n",
    "    except StopIteration:\n",
    "        return root\n",
    "    raise ValueError(\"Invalid List\")               \n"
   ]
  },
  {
   "cell_type": "code",
   "execution_count": 67,
   "metadata": {},
   "outputs": [
    {
     "data": {
      "text/plain": [
       "2"
      ]
     },
     "execution_count": 67,
     "metadata": {},
     "output_type": "execute_result"
    }
   ],
   "source": [
    "root = [1,2,None,None,5]\n",
    "s = Solution()\n",
    "\n",
    "s.DiameterOfBinaryTree(fromlist(root))"
   ]
  },
  {
   "cell_type": "markdown",
   "metadata": {},
   "source": [
    "680. Valid Palindrome II\n",
    "Easy\n",
    "\n",
    "Given a string s, return true if the s can be palindrome after deleting at most one character from it.\n",
    "\n",
    " \n",
    "\n",
    "Example 1:\n",
    "\n",
    "Input: s = \"aba\"\n",
    "Output: true\n",
    "Example 2:\n",
    "\n",
    "Input: s = \"abca\"\n",
    "Output: true\n",
    "Explanation: You could delete the character 'c'.\n",
    "Example 3:\n",
    "\n",
    "Input: s = \"abc\"\n",
    "Output: false\n",
    " \n",
    "\n",
    "Constraints:\n",
    "\n",
    "1 <= s.length <= 105\n",
    "s consists of lowercase English letters."
   ]
  },
  {
   "cell_type": "code",
   "execution_count": 96,
   "metadata": {},
   "outputs": [],
   "source": [
    "class Solution:\n",
    "    def ValidPalindrome(input: str) -> bool:\n",
    "        isPalindrome = lambda s: s == s[::-1]\n",
    "        leftpointer = 0\n",
    "        rightpointer = len(input)-1\n",
    "\n",
    "        while leftpointer <= rightpointer:\n",
    "            if input[leftpointer] == input[rightpointer]:\n",
    "                leftpointer +=1\n",
    "                rightpointer -=1\n",
    "            elif isPalindrome(input[leftpointer+1:rightpointer+1]) or isPalindrome(input[leftpointer:rightpointer]) == True:\n",
    "                print(f\"you could remove {input[leftpointer+1:rightpointer+1]} or remove {input[leftpointer:rightpointer]} \")\n",
    "                break\n",
    "            else:\n",
    "                return False\n",
    "        \n",
    "        return True\n",
    "\n",
    "# s = \"abcd\"\n",
    "# l=0, r=3, while True, s[0] == s[3] False, ispa(s[1:4]) False or ispa(s[0:3]) False, False\n",
    "\n",
    "# s = \"abca\"\n",
    "# l=0, r=3, while True, s[0] == s[3] True, \n",
    "# l=1, r=2, while True, s[1] == s[2] False, ispa(s[2:3]) True or ispa(s[1:2]) True, True\n",
    "\n",
    "# s = \"abcdba\"\n",
    "# l=0, r=5, while True, s[0] == s[5] True, \n",
    "# l=1, r=4, while True, s[1] == s[4] True, \n",
    "# l=2, r=3, while True, s[2] == s[3] False, ispa(s[3:4]) True or ispa(s[2:3]) True, True\n"
   ]
  },
  {
   "cell_type": "code",
   "execution_count": 97,
   "metadata": {},
   "outputs": [
    {
     "name": "stdout",
     "output_type": "stream",
     "text": [
      "True\n",
      "you could remove c or remove b \n",
      "True\n",
      "you could remove v or remove f \n",
      "True\n"
     ]
    }
   ],
   "source": [
    "s1 = \"aba\"\n",
    "s2 = \"abca\"\n",
    "s3 = \"abcfvcba\"\n",
    "\n",
    "print(Solution.ValidPalindrome(s1))\n",
    "print(Solution.ValidPalindrome(s2))\n",
    "print(Solution.ValidPalindrome(s3))"
   ]
  },
  {
   "cell_type": "markdown",
   "metadata": {},
   "source": [
    "766. Toeplitz Matrix\n",
    "Easy\n",
    "\n",
    "Given an m x n matrix, return true if the matrix is Toeplitz. Otherwise, return false.\n",
    "\n",
    "A matrix is Toeplitz if every diagonal from top-left to bottom-right has the same elements.\n",
    "\n",
    " \n",
    "\n",
    "Example 1:\n",
    "\n",
    "\n",
    "Input: matrix = [[1,2,3,4],[5,1,2,3],[9,5,1,2]]\n",
    "Output: true\n",
    "Explanation:\n",
    "In the above grid, the diagonals are:\n",
    "\"[9]\", \"[5, 5]\", \"[1, 1, 1]\", \"[2, 2, 2]\", \"[3, 3]\", \"[4]\".\n",
    "In each diagonal all elements are the same, so the answer is True.\n",
    "Example 2:\n",
    "\n",
    "\n",
    "Input: matrix = [[1,2],[2,2]]\n",
    "Output: false\n",
    "Explanation:\n",
    "The diagonal \"[1, 2]\" has different elements.\n",
    " \n",
    "\n",
    "Constraints:\n",
    "\n",
    "m == matrix.length\n",
    "n == matrix[i].length\n",
    "1 <= m, n <= 20\n",
    "0 <= matrix[i][j] <= 99\n",
    " \n",
    "\n",
    "Follow up:\n",
    "\n",
    "What if the matrix is stored on disk, and the memory is limited such that you can only load at most one row of the matrix into the memory at once?\n",
    "What if the matrix is so large that you can only load up a partial row into the memory at once?"
   ]
  },
  {
   "cell_type": "code",
   "execution_count": 133,
   "metadata": {},
   "outputs": [],
   "source": [
    "\"\"\"\n",
    "[1,2,3,4]\n",
    "[5,1,2,3]\n",
    "[9,5,1,2]\n",
    "\"\"\"\n",
    "from typing import List\n",
    "\n",
    "class Solution:\n",
    "    \n",
    "    def ToeplitzM(matrix: List[List[int]]) -> bool:\n",
    "        m = len(matrix)\n",
    "        n = len(matrix[0])\n",
    "        \n",
    "        for i in range(m-1):\n",
    "            for j in range(n-1):\n",
    "                if matrix[i][j] != matrix[i+1][j+1]:\n",
    "                    return False\n",
    "                \n",
    "        return True\n",
    "\n",
    "\n"
   ]
  },
  {
   "cell_type": "code",
   "execution_count": 134,
   "metadata": {},
   "outputs": [
    {
     "data": {
      "text/plain": [
       "True"
      ]
     },
     "execution_count": 134,
     "metadata": {},
     "output_type": "execute_result"
    }
   ],
   "source": [
    "matrix = [[1,2,3,4],[5,1,2,3],[9,5,1,2]]\n",
    "Solution.ToeplitzM(matrix)"
   ]
  },
  {
   "cell_type": "markdown",
   "metadata": {},
   "source": [
    "938. Range Sum of BST\n",
    "Easy\n",
    "\n",
    "Given the root node of a binary search tree and two integers low and high, return the sum of values of all nodes with a value in the inclusive range [low, high].\n",
    "\n",
    " \n",
    "\n",
    "Example 1:\n",
    "\n",
    "\n",
    "Input: root = [10,5,15,3,7,null,18], low = 7, high = 15\n",
    "Output: 32\n",
    "Explanation: Nodes 7, 10, and 15 are in the range [7, 15]. 7 + 10 + 15 = 32.\n",
    "Example 2:\n",
    "\n",
    "\n",
    "Input: root = [10,5,15,3,7,13,18,1,null,6], low = 6, high = 10\n",
    "Output: 23\n",
    "Explanation: Nodes 6, 7, and 10 are in the range [6, 10]. 6 + 7 + 10 = 23.\n",
    " \n",
    "\n",
    "Constraints:\n",
    "\n",
    "The number of nodes in the tree is in the range [1, 2 * 104].\n",
    "1 <= Node.val <= 105\n",
    "1 <= low <= high <= 105\n",
    "All Node.val are unique."
   ]
  },
  {
   "cell_type": "code",
   "execution_count": 157,
   "metadata": {},
   "outputs": [],
   "source": [
    "#TreeNode\n",
    "class TreeNode:\n",
    "    def __init__(self, val = 0):\n",
    "        self.val = val\n",
    "        self.left = None\n",
    "        self.right = None\n",
    "\n",
    "\n",
    "#Solution\n",
    "class Solution:\n",
    "    def rangeBST(self, root: Optional[TreeNode], low:int, high:int) ->int: \n",
    "        if not root:\n",
    "            return 0\n",
    "\n",
    "        res = 0\n",
    "        if low <= root.val <= high:\n",
    "            res += root.val\n",
    "            res += self.rangeBST(root.left,low,high)\n",
    "            res += self.rangeBST(root.right,low,high)\n",
    "        elif root.val < low:\n",
    "            res += self.rangeBST(root.right,low,high)\n",
    "        elif root.val > high:\n",
    "            res += self.rangeBST(root.left,low,high)\n",
    "        return res\n",
    "\n",
    "\n",
    "#Test\n",
    "def fromlist(val):\n",
    "    \n",
    "    def createit(it):\n",
    "        value = next(it)\n",
    "        return None if value is None else TreeNode(value)\n",
    "    \n",
    "    if not val:\n",
    "        return None\n",
    "    \n",
    "    it = iter(val)\n",
    "    root = TreeNode(next(it))\n",
    "    nextlevel = [root]\n",
    "\n",
    "    try:\n",
    "        while nextlevel:\n",
    "            level = nextlevel\n",
    "            nextlevel = []\n",
    "            for node in level:\n",
    "                if node:\n",
    "                    node.left = createit(it)\n",
    "                    node.right = createit(it)\n",
    "                    nextlevel += [node.left,node.right]\n",
    "    except StopIteration:\n",
    "        return root\n",
    "    raise ValueError(\"Invalid List\")\n"
   ]
  },
  {
   "cell_type": "code",
   "execution_count": 161,
   "metadata": {},
   "outputs": [
    {
     "data": {
      "text/plain": [
       "32"
      ]
     },
     "execution_count": 161,
     "metadata": {},
     "output_type": "execute_result"
    }
   ],
   "source": [
    "list = [10,5,15,3,7,None,18]\n",
    "s = Solution()\n",
    "s.rangeBST(fromlist(list),7,15)"
   ]
  },
  {
   "cell_type": "markdown",
   "metadata": {},
   "source": [
    "1047. Remove All Adjacent Duplicates In String\n",
    "Easy\n",
    "\n",
    "You are given a string s consisting of lowercase English letters. A duplicate removal consists of choosing two adjacent and equal letters and removing them.\n",
    "\n",
    "We repeatedly make duplicate removals on s until we no longer can.\n",
    "\n",
    "Return the final string after all such duplicate removals have been made. It can be proven that the answer is unique.\n",
    "\n",
    " \n",
    "\n",
    "Example 1:\n",
    "\n",
    "Input: s = \"abbaca\"\n",
    "Output: \"ca\"\n",
    "Explanation: \n",
    "For example, in \"abbaca\" we could remove \"bb\" since the letters are adjacent and equal, and this is the only possible move.  The result of this move is that the string is \"aaca\", of which only \"aa\" is possible, so the final string is \"ca\".\n",
    "Example 2:\n",
    "\n",
    "Input: s = \"azxxzy\"\n",
    "Output: \"ay\""
   ]
  },
  {
   "cell_type": "code",
   "execution_count": 162,
   "metadata": {},
   "outputs": [],
   "source": [
    "class Solution:\n",
    "    def removeDuplicates(self, s: str) -> str:\n",
    "        stack = []\n",
    "        \n",
    "        for c in s:\n",
    "            if stack and stack[-1] == c:\n",
    "                stack.pop()\n",
    "            else:\n",
    "                stack.append(c)\n",
    "                \n",
    "        res = \"\".join(stack)\n",
    "        \n",
    "        return res\n"
   ]
  },
  {
   "cell_type": "code",
   "execution_count": 164,
   "metadata": {},
   "outputs": [
    {
     "name": "stdout",
     "output_type": "stream",
     "text": [
      "ca\n",
      "ay\n"
     ]
    }
   ],
   "source": [
    "s1=\"abbaca\"\n",
    "s2=\"azxxzy\"\n",
    "\n",
    "s=Solution()\n",
    "print(s.removeDuplicates(s1))\n",
    "print(s.removeDuplicates(s2))"
   ]
  },
  {
   "cell_type": "code",
   "execution_count": null,
   "metadata": {},
   "outputs": [],
   "source": []
  }
 ],
 "metadata": {
  "interpreter": {
   "hash": "40d3a090f54c6569ab1632332b64b2c03c39dcf918b08424e98f38b5ae0af88f"
  },
  "kernelspec": {
   "display_name": "Python 3.8.3 ('base')",
   "language": "python",
   "name": "python3"
  },
  "language_info": {
   "codemirror_mode": {
    "name": "ipython",
    "version": 3
   },
   "file_extension": ".py",
   "mimetype": "text/x-python",
   "name": "python",
   "nbconvert_exporter": "python",
   "pygments_lexer": "ipython3",
   "version": "3.8.3"
  },
  "orig_nbformat": 4
 },
 "nbformat": 4,
 "nbformat_minor": 2
}
